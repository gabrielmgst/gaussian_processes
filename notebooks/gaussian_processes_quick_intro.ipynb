{
 "cells": [
  {
   "cell_type": "code",
   "execution_count": 1,
   "metadata": {
    "collapsed": false
   },
   "outputs": [
    {
     "name": "stdout",
     "output_type": "stream",
     "text": [
      "Kernel matrix = \n",
      " [[ 1.7029      1.42337925  1.21748079  0.88076344  0.73843943  0.52363196]\n",
      " [ 1.42337925  1.7029      1.56327628  1.34720732  1.21748079  0.9782733 ]\n",
      " [ 1.21748079  1.56327628  1.7029      1.51707449  1.42337925  1.21748079]\n",
      " [ 0.88076344  1.34720732  1.51707449  1.7029      1.59485656  1.48889436]\n",
      " [ 0.73843943  1.21748079  1.42337925  1.59485656  1.7029      1.56327628]\n",
      " [ 0.52363196  0.9782733   1.21748079  1.48889436  1.56327628  1.7029    ]]\n"
     ]
    }
   ],
   "source": [
    "'''\n",
    "Notebook based on the paper:\n",
    "\"\n",
    "    Gaussian Processes for Regression: A Quick Introduction\n",
    "    M. Ebden\n",
    "    https://arxiv.org/pdf/1505.02965.pdf\n",
    "\"\n",
    "using NumPy and scikit-learn.\n",
    "'''\n",
    "import numpy\n",
    "from sklearn.metrics.pairwise import pairwise_kernels\n",
    "\n",
    "# Print helper.\n",
    "def custom_print(output, header):\n",
    "    return print(\n",
    "        '{0} = \\n'.format(header), \n",
    "        output)\n",
    "\n",
    "# Training data\n",
    "x = numpy.array([-1.50, -1.00, -0.75, -0.40, -0.25, 0.00])\n",
    "x_len = len(x)\n",
    "# y values guessed from paper's first chart. A good example of \n",
    "# measurement error (noise).\n",
    "y = numpy.array([-1.60, -1.10, -0.40, 0.20, 0.50, 0.75])\n",
    "\n",
    "# Hyperparameters defined by the author.\n",
    "sigma_n = 0.3\n",
    "sigma_f = 1.27\n",
    "l = 1\n",
    "\n",
    "# Kernel.\n",
    "# Eq. (3)\n",
    "# The author decided to insert the noise term into k(x, x').\n",
    "# It's the second term of the k variable in the function 'kernel' \n",
    "# below.\n",
    "def kernel(x1, x2):\n",
    "    # Kronecker delta.\n",
    "    x1_id = id(x1)\n",
    "    x2_id = id(x2)\n",
    "    if x1_id == x2_id:\n",
    "        delta = 1\n",
    "    else:\n",
    "        delta = 0\n",
    "    \n",
    "    k = (sigma_f ** 2) * numpy.exp(\n",
    "        -(x1-x2)**2 / (2*l**2)) + (sigma_n ** 2) * delta\n",
    "    \n",
    "    return k\n",
    "\n",
    "# K matrix.\n",
    "# Eq. (4)\n",
    "K = pairwise_kernels(x.reshape((x_len,1)), metric=kernel)\n",
    "custom_print(K, 'Kernel matrix')"
   ]
  },
  {
   "cell_type": "code",
   "execution_count": 2,
   "metadata": {
    "collapsed": false
   },
   "outputs": [
    {
     "name": "stdout",
     "output_type": "stream",
     "text": [
      "K* matrix = \n",
      " [ 0.38023485  0.78508271  1.02714571  1.34720732  1.45758915  1.58096244]\n"
     ]
    }
   ],
   "source": [
    "# Out of sample covariate (x*).\n",
    "# The aim is to infer y* from it.\n",
    "x_star = 0.2\n",
    "\n",
    "# K*\n",
    "# Eq. (5)\n",
    "K_star = pairwise_kernels(x.reshape((x_len,1)), numpy.array([[x_star]]), metric=kernel)\n",
    "K_star = K_star.reshape((x_len,))\n",
    "custom_print(K_star, 'K* matrix')"
   ]
  },
  {
   "cell_type": "code",
   "execution_count": 3,
   "metadata": {
    "collapsed": false
   },
   "outputs": [
    {
     "name": "stdout",
     "output_type": "stream",
     "text": [
      "K** matrix = \n",
      " [ 1.7029]\n"
     ]
    }
   ],
   "source": [
    "# K**.\n",
    "# Eq. (5)\n",
    "# The Kronecker delta is based on index, not value. \n",
    "# Hence we must pass the same array (memory location) \n",
    "# when computing the kernel.\n",
    "x_star_array = numpy.array([[x_star]])\n",
    "K_star_star = pairwise_kernels(\n",
    "    x_star_array, \n",
    "    x_star_array, \n",
    "    metric=kernel)\n",
    "K_star_star = K_star_star.reshape((1,))\n",
    "custom_print(K_star_star, 'K** matrix')"
   ]
  },
  {
   "cell_type": "code",
   "execution_count": 4,
   "metadata": {
    "collapsed": false
   },
   "outputs": [
    {
     "name": "stdout",
     "output_type": "stream",
     "text": [
      "y* = \n",
      " 0.877019417441\n"
     ]
    }
   ],
   "source": [
    "# Predicted y (y*).\n",
    "# Eq. (8)\n",
    "y_pred = numpy.matmul(K_star, numpy.matmul(numpy.linalg.inv(K), y))\n",
    "custom_print(y_pred, 'y*')"
   ]
  },
  {
   "cell_type": "code",
   "execution_count": 5,
   "metadata": {
    "collapsed": false
   },
   "outputs": [
    {
     "name": "stdout",
     "output_type": "stream",
     "text": [
      "var(y*) = \n",
      " 0.206045043497\n"
     ]
    }
   ],
   "source": [
    "# var(y*).\n",
    "# Eq. (9)\n",
    "var_y_pred = K_star_star - numpy.matmul(K_star, numpy.matmul(numpy.linalg.inv(K), K_star.T))\n",
    "custom_print(var_y_pred[0], 'var(y*)')"
   ]
  },
  {
   "cell_type": "code",
   "execution_count": 6,
   "metadata": {
    "collapsed": false
   },
   "outputs": [
    {
     "data": {
      "image/png": "[encoded data removed]",
      "text/plain": [
       "<matplotlib.figure.Figure at 0x7f01995cc400>"
      ]
     },
     "metadata": {},
     "output_type": "display_data"
    }
   ],
   "source": [
    "# Plot.\n",
    "%matplotlib inline\n",
    "import matplotlib.pyplot as plt\n",
    "\n",
    "colors = numpy.ones(len(x))\n",
    "colors = numpy.append(colors, 0)\n",
    "plt.scatter(\n",
    "    numpy.append(x, x_star), \n",
    "    numpy.append(y, y_pred), \n",
    "    s=50,\n",
    "    c=colors, \n",
    "    cmap=plt.cm.bone\n",
    ")\n",
    "plt.axis([-1.6, 0.5, -2.5, 1.5])\n",
    "plt.xlabel('x')\n",
    "plt.ylabel('y')\n",
    "plt.show()"
   ]
  }
 ],
 "metadata": {
  "kernelspec": {
   "display_name": "Python 3",
   "language": "python",
   "name": "python3"
  },
  "language_info": {
   "codemirror_mode": {
    "name": "ipython",
    "version": 3
   },
   "file_extension": ".py",
   "mimetype": "text/x-python",
   "name": "python",
   "nbconvert_exporter": "python",
   "pygments_lexer": "ipython3",
   "version": "3.5.2"
  }
 },
 "nbformat": 4,
 "nbformat_minor": 2
}
